{
  "cells": [
    {
      "cell_type": "code",
      "execution_count": 1,
      "metadata": {
        "colab": {
          "base_uri": "https://localhost:8080/"
        },
        "id": "NA2btJQiul4A",
        "outputId": "2ccbb297-2e19-43cf-ce59-a2f8f4e09f5f"
      },
      "outputs": [
        {
          "name": "stdout",
          "output_type": "stream",
          "text": [
            "Collecting openai==0.28.0\n",
            "  Downloading openai-0.28.0-py3-none-any.whl (76 kB)\n",
            "\u001b[2K     \u001b[90m━━━━━━━━━━━━━━━━━━━━━━━━━━━━━━━━━━━━━━━━\u001b[0m \u001b[32m76.5/76.5 kB\u001b[0m \u001b[31m1.5 MB/s\u001b[0m eta \u001b[36m0:00:00\u001b[0m\n",
            "\u001b[?25hRequirement already satisfied: requests>=2.20 in /usr/local/lib/python3.10/dist-packages (from openai==0.28.0) (2.31.0)\n",
            "Requirement already satisfied: tqdm in /usr/local/lib/python3.10/dist-packages (from openai==0.28.0) (4.66.2)\n",
            "Requirement already satisfied: aiohttp in /usr/local/lib/python3.10/dist-packages (from openai==0.28.0) (3.9.3)\n",
            "Requirement already satisfied: charset-normalizer<4,>=2 in /usr/local/lib/python3.10/dist-packages (from requests>=2.20->openai==0.28.0) (3.3.2)\n",
            "Requirement already satisfied: idna<4,>=2.5 in /usr/local/lib/python3.10/dist-packages (from requests>=2.20->openai==0.28.0) (3.6)\n",
            "Requirement already satisfied: urllib3<3,>=1.21.1 in /usr/local/lib/python3.10/dist-packages (from requests>=2.20->openai==0.28.0) (2.0.7)\n",
            "Requirement already satisfied: certifi>=2017.4.17 in /usr/local/lib/python3.10/dist-packages (from requests>=2.20->openai==0.28.0) (2024.2.2)\n",
            "Requirement already satisfied: aiosignal>=1.1.2 in /usr/local/lib/python3.10/dist-packages (from aiohttp->openai==0.28.0) (1.3.1)\n",
            "Requirement already satisfied: attrs>=17.3.0 in /usr/local/lib/python3.10/dist-packages (from aiohttp->openai==0.28.0) (23.2.0)\n",
            "Requirement already satisfied: frozenlist>=1.1.1 in /usr/local/lib/python3.10/dist-packages (from aiohttp->openai==0.28.0) (1.4.1)\n",
            "Requirement already satisfied: multidict<7.0,>=4.5 in /usr/local/lib/python3.10/dist-packages (from aiohttp->openai==0.28.0) (6.0.5)\n",
            "Requirement already satisfied: yarl<2.0,>=1.0 in /usr/local/lib/python3.10/dist-packages (from aiohttp->openai==0.28.0) (1.9.4)\n",
            "Requirement already satisfied: async-timeout<5.0,>=4.0 in /usr/local/lib/python3.10/dist-packages (from aiohttp->openai==0.28.0) (4.0.3)\n",
            "Installing collected packages: openai\n",
            "Successfully installed openai-0.28.0\n"
          ]
        }
      ],
      "source": [
        "!pip install openai=='0.28.0'\n",
        "\n",
        "# Any user can either upvote or downvote a comment, the net value is the score of the comment."
      ]
    },
    {
      "cell_type": "code",
      "execution_count": 1,
      "metadata": {
        "id": "Rz6z5eu7s3KT"
      },
      "outputs": [],
      "source": [
        "import pandas as pd\n",
        "import numpy as np\n",
        "import matplotlib.pyplot as plt\n",
        "import json\n",
        "\n",
        "import openai"
      ]
    },
    {
      "cell_type": "code",
      "execution_count": 21,
      "metadata": {
        "id": "L0s8Kd3qs7S3"
      },
      "outputs": [],
      "source": [
        "#Open AI set up\n",
        "\n",
        "#4,oMWXRSsSu58dYT6KbF4R,50000000,Public Opinion\n",
        "openai.api_base=\"http://91.107.239.71:80\"\n",
        "api_key = \"oMWXRSsSu58dYT6KbF4R\"\n",
        "openai.api_key = api_key"
      ]
    },
    {
      "cell_type": "code",
      "execution_count": 3,
      "metadata": {
        "id": "qHRYQ5Fn0bbX"
      },
      "outputs": [],
      "source": [
        "#Call the json file with all the reddit comments for all topics\n",
        "\n",
        "#with open('/content/drive/MyDrive/comments_for_prompts.json') as f:\n",
        "#    reddit_comments = json.load(f)\n",
        "\n",
        "with open('comments_for_prompts.json') as f:\n",
        "    reddit_comments = json.load(f)"
      ]
    },
    {
      "cell_type": "code",
      "execution_count": 4,
      "metadata": {
        "colab": {
          "base_uri": "https://localhost:8080/"
        },
        "id": "I8iGDo-H1BRn",
        "outputId": "e74d0a22-a1dc-41e2-e6a4-f29e3f57d984"
      },
      "outputs": [
        {
          "data": {
            "text/plain": [
              "dict_keys(['abortion', 'climate change', 'gun control', 'healthcare', 'immigration'])"
            ]
          },
          "execution_count": 4,
          "metadata": {},
          "output_type": "execute_result"
        }
      ],
      "source": [
        "reddit_comments.keys()"
      ]
    },
    {
      "cell_type": "code",
      "execution_count": 5,
      "metadata": {
        "id": "cIn39ybR1ZZl"
      },
      "outputs": [
        {
          "data": {
            "text/plain": [
              "[\"Headline: Los Angeles records county's highest temperature ever on record\\n\",\n",
              " \"Comment 0: 'This may be the hottest summer in the last hundred years, but, on the bright side, it's the coldest summer of the next one hundred years!' (score: 5310)\\n\",\n",
              " \"Comment 1: 'LA is so hot right now' (score: 3550)\\n\",\n",
              " \"Comment 2: 'At 7:00 PM it was still 103 here in the LA basin.  I've lived here my whole life and I've never EVER seen it stay that hot that late into the afternoon.\\r\\n\\r\\nAt least it was a dry heat.' (score: 2464)\\n\",\n",
              " 'Comment 3: \\'Also of note \"highest temperature ever reliably recorded on Earth\" was recorded 2 weeks ago in Death Valley California on August 16th at 130 degrees Fahrenheit (54.4 celsius).\\' (score: 1758)\\n',\n",
              " \"Comment 4: '121° that's just insane.' (score: 1082)\\n\",\n",
              " \"Comment 5: 'That's about 50 degree Celsius for others trying to scroll down for a conversion' (score: 777)\\n\",\n",
              " \"Comment 6: 'It was high 90’s in Colorado, this weekend. We’re getting 30° and snow on Tuesday.' (score: 710)\\n\",\n",
              " 'Comment 7: \\'We\\'ll literally roasting to death 20 years from now and Republicans will still be like:\\r\\n\\r\\n&#x200B;\\r\\n\\r\\n\"This is all just a democratic hoax!\"\\' (score: 629)\\n',\n",
              " \"Comment 8: 'I never thought I would say this: but thank god i was in Phoenix where it was only 111 degrees.' (score: 488)\\n\",\n",
              " \"Comment 9: 'Huh, weird.  Where are those geniuses who all call global warming a hoax when a winter storm hits?\\r\\n\\r\\n*Edit since you all seem to be missing the point:  I'm simply pointing out the hypocrisy of the climate deniers.  I'm acutely aware that weather != climate.' (score: 302)\\n\",\n",
              " \"Comment 10: 'What blows my mind is with record temperatures happening year after year and it's not like it's some great conspiracy you can literally experience it happening. Yet people still deny climate change is a thing. Crazy.' (score: 221)\\n\",\n",
              " 'Comment 11: \\'\"The highest temperature ever on record *so far*\"\\' (score: 201)\\n',\n",
              " \"Comment 12: 'Yeah it was super hot today. Thankfully those predictions of large scale blackouts didn't come through.' (score: 182)\\n\",\n",
              " \"Comment 13: 'This will continue to get worse for the rest of our lives.' (score: 128)\\n\",\n",
              " \"Comment 14: 'Everyone please get out and vote this November, or this won't just be a common occurrence, it's going to keep getting worse, and worse, and worse.\\r\\n\\r\\n*We're literally seeing it happen right now.*' (score: 122)\\n\",\n",
              " \"Comment 15: 'As an Aussie I feel for you Cali people....fires as bad if not worse and heatwave......fuck! All the best guys' (score: 89)\\n\",\n",
              " \"Comment 16: 'Records and records for all the records!' (score: 71)\\n\",\n",
              " \"Comment 17: 'Woodland Hills here.  It was unbearable outside.' (score: 70)\\n\",\n",
              " \"Comment 18: 'Wait... \\\\*checks notes\\\\*\\r\\n\\r\\n**Yup. The record highest temperature for anywhere on Earth with a humid\\\\* climate has been tied, potentially having been reliably recorded only once before.**\\r\\n\\r\\nHere are the previous potential instances:\\r\\n\\r\\nJuly 6, 1936: Steele, North Dakota\\r\\n\\r\\n* Climate type according to the Köppen system: Warm-summer humid continental (*Dfb*)\\r\\n* Note: While not enough to exclude it from consideration entirely, the fact that the *next* hottest temperature recorded at the station was 110 °F in May 1948 makes this incredibly unlikely even with such a significant heat wave as happened in 1936, and such a temperature is probably due to overexposure.\\r\\n\\r\\nJuly 18, 1936: Fredonia, Kansas\\r\\n\\r\\n* Köppen climate type: Humid subtropical *(Cfa)*\\r\\n* Note: Like with Steele (though less so), the nature of this area's climate makes such a reading questionable.\\r\\n\\r\\nJuly 24, 1936: Alton, Kansas\\r\\n\\r\\n* Köppen climate type: Hot-summer humid continental *(Dfa)*, bordering Humid subtropical *(Cfa)*\\r\\n* Note: Some meteorologists, including extreme temperatures researcher Maximiliano Herrera, consider this to be dubious and likely a result of overexposure.\\r\\n\\r\\nAugust 7, 1981: Red Bluff, California\\r\\n\\r\\n* Köppen climate type: Hot-summer/subtropical mediterranean (Csa)\\r\\n* Notes: As far as I can ascertain, this is undisputed.\\r\\n\\r\\n**September 6, 2020: Woodland Hills, California**\\r\\n\\r\\n* Köppen climate type: Hot-summer/subtropical mediterranean (Csa)\\r\\n* Notes: Unless this area was in the direct windfall of a nearby wildfire, I don't see a reason to dismiss this reading.\\r\\n\\r\\nIf you're wondering why the list seems to be US-centric, it's not intentional—after thoroughly searching, there legitimately seem to be no humid climate locations outside the US that have ever got to 121 °F, not even, say, the savannahs of tropical West Africa and grishmic monsoonal forests of the northwest Indian subcontinent.\\r\\n\\r\\n\\\\*That is, a climate where the average integrated precipitation exceeds potential evapotranspiration, synonymous to a climate that is neither arid nor semi-arid.' (score: 56)\\n\",\n",
              " \"Comment 19: 'Good thing Donald trump is here to fight the fake news media and their fake climate change hoax designed to scare the people and fight for what’s right and get those oil and coal jobs back and better than ever before!!! Yay!!!!' (score: 47)\\n\",\n",
              " \"Comment 20: 'Don’t come to AZ. At least out here it’s mandatory to have ac in homes. You also can’t legally refuse someone water when requested. I have no ac in my car and have had strangers literally hose me down.' (score: 39)\\n\",\n",
              " \"Comment 21: 'Almost like the climate is changing.... Weird.' (score: 37)\\n\",\n",
              " \"Comment 22: 'No worries guys, I'm sure the head of the EPA is very concerned about this and is doing everything they can to reduce greenhouse gasses!' (score: 30)\\n\",\n",
              " \"Comment 23: '50c? That's Dubai, not LA. Wow.' (score: 28)\\n\",\n",
              " \"Comment 24: 'As someone in Sydney I was like pff how hot could it be. \\r\\n\\r\\nGoogle: 121F in C....      49.4c\\r\\n\\r\\nMe: -_- wow fuck' (score: 27)\\n\",\n",
              " \"Comment 25: 'As an australian whos state was severly affected this year (and alot of other years), i really hope california doesnt get anywhere near as bad as we did.' (score: 24)\\n\",\n",
              " \"Comment 26: '108 here in Hollywood for 6 hours. Never seen that before.' (score: 24)\\n\",\n",
              " \"Comment 27: 'Jeesh .. i live in Maryland and at like 10 pm the temp dropped to 50 something degrees. I couldn't imagine the temp staying so hot so late.' (score: 23)\\n\",\n",
              " \"Comment 28: 'Record temps here in Denver. 35 and snowing tomorrow haha!' (score: 17)\\n\",\n",
              " \"Comment 29: 'In September, IN SEPTEMBER' (score: 17)\\n\",\n",
              " \"Comment 30: 'Today in Colorado, you could see ash falling from the sky, which is just terrifying and feels like a dystopia. I even got a large chunk in my eye which hurt like hell.' (score: 16)\\n\",\n",
              " \"Comment 31: 'Just in time for more fires' (score: 16)\\n\",\n",
              " \"Comment 32: 'PNW been feeling like Cali lately, and sounds like Cali has been like Arizona' (score: 14)\\n\",\n",
              " \"Comment 33: 'Global warming. \\r\\n\\r\\nRandy Marsh: “We didn’t listen!!!”' (score: 13)\\n\",\n",
              " \"Comment 34: 'Also this year: record high temperature in South pole (2/2020) and north pole (6/2020), first time in recorded history of two full-fledged hurricanes in the Gulf at once, and record-setting fires in western states.' (score: 13)\\n\",\n",
              " \"Comment 35: 'Well, with WFH now on the scene and thus tons of people not spending an hour or more each way in an internal combustion engine powered car coming into work, and thus less greenhouse emissions, maybe we as a society can start moving away from practices that have gotten us here in the first place?' (score: 11)\\n\",\n",
              " \"Comment 36: 'I've been out on my bike at up to 108 degrees, put in a lot of miles; you have to be careful to know where to get water, but it's doable. I've been out on walks at 115 degrees, and it's tricky, but you don't just die. You have to keep an eye on the time and how things are feeling, but it can be done.\\r\\n\\r\\n121 degrees I know nothing about, never been there. That kind of thing gets worse pretty quickly just a little hotter, and I'd want to have some experience with it first before I took any kind of chances or assumed anything.' (score: 9)\\n\",\n",
              " \"Comment 37: '“gLoBaL wArMiNg IsNt ReAl, ItS cAlLeD sEaSoNs”' (score: 6)\\n\",\n",
              " \"Comment 38: 'gLoBaL wArMiNg IsNt ReAl' (score: 6)\\n\",\n",
              " \"Comment 39: '100 here in Santa Barbara. My neighbors were teasing  me when I put an AC unit in, it saved us big time. Very few of the houses here have AC because they’ve never been needed in the past. My prediction is it’s going to be a very hot autumn.' (score: 6)\\n\",\n",
              " \"Comment 40: 'Was the city taking care of the homeless? I cant imagine being outside all day in that heat.' (score: 6)\\n\",\n",
              " \"Comment 41: 'Soon enough SoCal is gonna be the new Arizona and Arizona is gonna be an uninhabitable hellscape' (score: 5)\\n\",\n",
              " \"Comment 42: 'Climate change folks. It only gets worse.' (score: 5)\\n\",\n",
              " \"Comment 43: 'Good thing that global warming is a hoax. These weather patterns are just gods wrath on the gays. /s' (score: 5)\\n\",\n",
              " \"Comment 44: 'cLiMATE cHaNgE IS a HoAx' (score: 5)\\n\",\n",
              " \"Comment 45: 'Trump will claim that California is terribly mismanaged and the radical democrats did this.' (score: 5)\\n\",\n",
              " \"Comment 46: 'It got to 111 where I am, and our AC was broken. It was disgusting, no one could cool off, we could barely function. I don't know if it was anything dangerous, but there were no cooling centers by us. Just praying someone can fix it today.' (score: 5)\\n\",\n",
              " \"Comment 47: 'How are the animals doing ? Horses?' (score: 5)\\n\",\n",
              " \"Comment 48: '49C for anyone not in the US. \\r\\n\\r\\nMental.' (score: 4)\\n\",\n",
              " \"Comment 49: 'Climate change is real, folks' (score: 4)\\n\",\n",
              " \"Comment 50: 'If I believe my conservative friends Facebook feeds this is because of the liberals - they are out of control apparently!' (score: 4)\\n\",\n",
              " \"Comment 51: 'Please do enjoy the coolest summer this decade, because it’s only going to get hotter.' (score: 4)\\n\",\n",
              " 'Comment 52: \\'Yesterday was crazy hot. My electric cars battery cooling system was running most of the day - and I didn\\'t go anywhere. So... we\\'ve had a pretty mild summer until the 2nd week of August (this year). Last summer we did get something similiar, too. Mild summer and then the high temps in late August, early September. But these last few years - the September highs have been more like the August highs from the early 2000\\'s. We\\'re also getting more of the \"normal\" September temps in October AND the past few Thanksgivings have all high 90 degrees. I\\'ve lived in Los Angeles since 1999, and ithe climate is different now, than then. These last 5-7 years we\\'ve added 50%-70% humidity to the mix during late June and July - and these late summer temps have just gotten unreal.\\' (score: 4)\\n',\n",
              " \"Comment 53: 'Since the US thinks they have it all sorted out, and don't think they need to participate in the Paris Agreement, I guess you could say this is well deserved.' (score: 4)\\n\",\n",
              " \"Comment 54: 'If you just listened to President Trump and 'cleaned your floors' all of this could have been avoided.' (score: 4)\\n\",\n",
              " \"Comment 55: 'SoCal Resident checking in. It’s been hot as balls this weekend. Last night the coldest it got in my area was 91, in the middle of the night! The worst is finally over, for now at least.....' (score: 3)\\n\",\n",
              " \"Comment 56: 'LA is done for, completely and totally unsustainable blight on the landscape. Working getting the fuck out' (score: 3)\\n\",\n",
              " \"Comment 57: 'Where is that jackass Senator James Inhofe (R-Okla.) with his snowball?' (score: 3)\\n\",\n",
              " \"Comment 58: 'And it snowed in Colorado...' (score: 3)\\n\",\n",
              " \"Comment 59: 'It’s also snowing in Colorado tomorrow. That’s why climate change has always been the better term so people like Trump can’t refuse the validity of climate change/global warming by saying it’s snowing in New York etc. amidst global temp rise' (score: 3)\\n\",\n",
              " \"Comment 60: 'ITT: Dozens of angry Arizonans that suddenly show up whenever anyone mentions heat outside of Arizona' (score: 3)\\n\",\n",
              " \"Comment 61: 'Weird, almost like the climate is changing or something' (score: 3)\\n\",\n",
              " \"Comment 62: 'I wonder if all the concrete has anything to do with it?' (score: 3)\\n\",\n",
              " \"Comment 63: 'I used to live in LA and it never got that hot. 120 degrees? What’s going to happen in ten years?' (score: 3)\\n\",\n",
              " \"Comment 64: 'And here in central Europe we finally had a normal summer (similar to ones 5+ years ago).' (score: 3)\\n\",\n",
              " \"Comment 65: 'Repost.  I saw this posted a year ago. /s' (score: 3)\\n\",\n",
              " \"Comment 66: 'And at the same time this will probably be the lowest temperature for the years to come, it will get much worst than this' (score: 3)\\n\",\n",
              " \"Comment 67: 'But , according to our leader, there is no global warming?' (score: 3)\\n\",\n",
              " \"Comment 68: '98 in denver and yet snow tonight. That's wierd even for us.' (score: 3)\\n\",\n",
              " \"Comment 69: 'Cali will soon be like Nevada.' (score: 3)\\n\",\n",
              " \"Comment 70: 'It's not just the coasts. Texas & florida are major climate change-affected areas' (score: 2)\\n\",\n",
              " \"Comment 71: 'It doesn't matter.\\r\\nThis has all been predicted to happen by current climatologist models for almost twenty years and nothing has changed.' (score: 2)\\n\",\n",
              " \"Comment 72: 'bUt ThErE Is SnOw In WiNtEr' (score: 2)\\n\",\n",
              " \"Comment 73: 'it's so hot.  almost as if someone lit a big bonfire or 6.  Those fires are not from global warming or cooling. They are just the cycle of life.  They burn better with lots of fuel.  Few here have mentioned this fact that fires are burning all around LA.' (score: 2)\\n\",\n",
              " \"Comment 74: 'I learned that the Native America’s would do control fires to lessen the chance of these huge ones. Suck we pushed them all out and killed them all. \\r\\n\\r\\nDam I learned this through a meme and not school (11 grade)' (score: 2)\\n\",\n",
              " \"Comment 75: 'Just one more reason to make people leave California.' (score: 2)\\n\",\n",
              " \"Comment 76: 'Highest temperature ever on record *so far*.' (score: 2)\\n\",\n",
              " \"Comment 77: 'Highest recorded temperature so far...' (score: 2)\\n\",\n",
              " \"Comment 78: 'and it's just gonna keep getting worse......' (score: 2)\\n\",\n",
              " \"Comment 79: 'Move to California they say. That state is FUCKT!' (score: 2)\\n\",\n",
              " \"Comment 80: 'If you wondered its 49.4 normal degrees' (score: 2)\\n\",\n",
              " \"Comment 81: 'The SF Valley is all concrete that’s one of the reasons it was so hot out there. They need to rip up some of that concrete and plant trees.' (score: 2)\\n\",\n",
              " \"Comment 82: 'Wait.. what about all the people in LA wearing coats and having fires sharing the hashtag #heatscam is that just a joke?' (score: 2)\\n\",\n",
              " \"Comment 83: 'Somewhere Nelly is like “told you guys.”' (score: 2)\\n\",\n",
              " \"Comment 84: 'meanwhile last night I had some nice cold breeze through my windows and it was raining.' (score: 2)\\n\",\n",
              " \"Comment 85: 'Good thing climate change isn’t real or we’d really be screwed. /s' (score: 2)\\n\",\n",
              " \"Comment 86: '“Yep climate change is still fake news!!!” Why are these climate change deniers so blind.' (score: 2)\\n\",\n",
              " \"Comment 87: 'Enjoy the eucalyptus trees we didn’t think about the consequences soz . Love Australia' (score: 2)\\n\",\n",
              " \"Comment 88: 'https://edition.cnn.com/videos/politics/2018/11/17/trump-leaves-wildfires-fox-intv-sot-newday-vpx.cnn\\r\\n\\r\\nRemember this' (score: 2)\\n\",\n",
              " \"Comment 89: 'Its like an open air crematorium' (score: 2)\\n\",\n",
              " \"Comment 90: 'And climate change is only going to make it hotter and more humid, get your assholes ready anyone that isnt near the poles! Its going to get spicy.' (score: 2)\\n\",\n",
              " \"Comment 91: 'Same with Reno. Yay global warming!' (score: 2)\\n\",\n",
              " \"Comment 92: 'I went to the corner store to grab a Gatorade and the police were there trying to get a homeless man out from the fridge.\\r\\n\\r\\nThat's how fucking hot it is.' (score: 2)\\n\",\n",
              " \"Comment 93: 'Yeah and my AC just broke last night. I’m in for a miserable day.' (score: 2)\\n\",\n",
              " \"Comment 94: 'This thread consists of Americans complaining about a standard Australian summer' (score: 2)\\n\",\n",
              " \"Comment 95: 'Someone important said to sweep the leaves in the forest to combat global warming or fires or something. I can't remember.' (score: 2)\\n\",\n",
              " \"Comment 96: 'Didn't read past the first paragraph or two, but the headline is bs. The Mojave Desert is partly in L.A. County. It was 125 the summer that I lived there, 20 years ago. \\r\\n\\r\\nI DID see that they point out that the high was recorded in Woodland Hills, which is much different than what the headline suggests.' (score: 2)\\n\",\n",
              " \"Comment 97: 'We’re going to evolve into mole people now' (score: 2)\\n\",\n",
              " \"Comment 98: '(laughing internally at that guy who tried to tell me California hasn't had a drought for years)' (score: 2)\\n\",\n",
              " \"Comment 99: 'few of our plants outside have parts that look like they have been near an open flame.' (score: 2)\\n\",\n",
              " \"Comment 100: 'Highest temperature on record so far....' (score: 1)\\n\",\n",
              " \"Comment 101: 'What is with all these forest fire in California in the past few years? I heard because we stop controlled burning?' (score: 1)\\n\",\n",
              " \"Comment 102: 'It was cold here in Europe almost all summer. Colder than usual. Send some warmth.' (score: 1)\\n\",\n",
              " \"Comment 103: 'Super nice in DC. I guess DC has SoCal weather now. LOL.' (score: 1)\\n\",\n",
              " \"Comment 104: 'Not true, 3rd hottest ever.' (score: 1)\\n\",\n",
              " \"Comment 105: 'Here are some of the other records set for the Bay Area https://i.imgur.com/ysodTri.jpg' (score: 1)\\n\",\n",
              " \"Comment 106: 'You gotta love reading record twice' (score: 1)\\n\",\n",
              " \"Comment 107: 'Isn't the LA to San Diego region one of those areas that usually has pretty mild temperatures year round (when compared to the rest of the country)?' (score: 1)\\n\",\n",
              " \"Comment 108: 'Cries from Arizona... 🔥👁👄👁🔥\\r\\n\\r\\nHelp me' (score: 1)\\n\",\n",
              " \"Comment 109: 'Well, time to move! I’m not living in **Florida: The sequel.**' (score: 1)\\n\",\n",
              " \"Comment 110: 'Just in 2016 the record was the same in Phoenix (121F)\\r\\n\\r\\nI was there and that kind of heat is unbearable.' (score: 1)\\n\",\n",
              " \"Comment 111: 'About 10 years ago, it reached ~109 in the LA area. No AC then, no AC now lol' (score: 1)\\n\",\n",
              " \"Comment 112: 'Second highest, it has previously reached 113 I believe via mrmbb333 on YouTube.' (score: 1)\\n\",\n",
              " \"Comment 113: 'Los Angeles and San Francisco skew the data.' (score: 1)\\n\",\n",
              " \"Comment 114: 'Is it because California is on fire?' (score: 1)\\n\",\n",
              " \"Comment 115: 'Can’t imagine that, the bay is pretty hot right now (100-102) but still not close to what LA got' (score: 1)\\n\",\n",
              " \"Comment 116: 'So far. Highest on record so far.' (score: 1)\\n\",\n",
              " \"Comment 117: 'It's so nice to be a middle class person in Michigan. We're not making $100k a year but it's cool, MOIST, and we have plenty of water.' (score: 1)\\n\",\n",
              " 'Comment 118: \\'\"I\\'m melting!\" \"I\"m melting!\"  \"What a world!\"\\' (score: 1)\\n',\n",
              " \"Comment 119: 'My weather station at home (personal wifi weather vane thing) recorded 121.8 on Saturday in socal.' (score: 1)\\n\",\n",
              " \"Comment 120: 'Well, I won't be around anymore when this is all a proper hell. Although some movies have made it seem like quite fun, especially if one has the proper cannibalistic tendencies.' (score: 1)\\n\",\n",
              " \"Comment 121: 'I've seen one of these for historical records??' (score: 1)\\n\",\n",
              " \"Comment 122: 'Why do people want to live in Cali?!?' (score: 1)\\n\",\n",
              " \"Comment 123: 'I left LA for a staycation in Palm Springs. It was 122 yesterday. Not sure what I was thinking.' (score: 1)\\n\",\n",
              " \"Comment 124: 'Why I and many others wont have kids, we're fucked in the coming years, wouldn't be fair to throw a kid into that' (score: 1)\\n\",\n",
              " \"Comment 125: 'Why climate change isn't the only thing in the papers is part of the reason I don't think we're going to beat this, or even curb it.' (score: 1)\\n\",\n",
              " \"Comment 126: 'My friend called me last night, and during the call his internet went out, but not his power. During the call he was saying the skies looked super dark from the smoke like a video game or dark theme cinematic. He said it was hot even inside the house. So I can’t imagine the heat outside to feel was probably insane.' (score: 1)\\n\",\n",
              " \"Comment 127: 'League of Legends had their North American finals match yesterday.\\r\\n\\r\\nUsually it'd take place in a packed stadium.  But, you know, Covid.  So the players are playing from home while half a million people watch the broadcast.\\r\\n\\r\\nBecause of the LA heat one of the players had their power go out.\\r\\n\\r\\nThey had to pause the championship for an hour while moved.' (score: 1)\\n\",\n",
              " \"Comment 128: '[Definitely doesn't help knowing that part of the reason why it's so hot is because some gender reveal party went wrong and set upon houses and houses on fire...](https://twitter.com/KateCagle/status/1302808347024875521?s=19)' (score: 1)\\n\",\n",
              " \"Comment 129: 'Thankfully global warming is a liberal hoax, thus this is nothing to worry about.' (score: 1)\\n\",\n",
              " 'Comment 130: \\'So where are the most ideal places to live in the world going to be?It seems like scientists are completely right about how all of this is going to go down so I\\'m curious what parts of the world are the \"safest\" for the foreseeable future.\\' (score: 1)\\n',\n",
              " \"Comment 131: 'Although it was hot as balls yesterday the 121 record happened in the valley it’s always scorching out there' (score: 1)\\n\",\n",
              " \"Comment 132: 'I wonder if we can beat it next year' (score: 1)\\n\",\n",
              " \"Comment 133: 'And I've had a power outage for most of the weekend. Fun combo.' (score: 1)\\n\",\n",
              " \"Comment 134: 'California turning into arizona, oregon into California and Seattle into portland. Weather wise' (score: 1)\\n\",\n",
              " \"Comment 135: 'Y’all crazy If you’re not going outside without sunscreen AND an umbrella in 90+ weather' (score: 1)\\n\",\n",
              " \"Comment 136: 'when it cooled down for a bit last week i would hear water cooler conversations at the office like “so much for that *global warming*, huh?”' (score: 1)\\n\",\n",
              " \"Comment 137: 'It feels so weird. If it wasn't for covid, I would have been in LA this weekend/week or two in this heat. I've been there during heatwaves before, I can't imagine how hot it was. I hope everyone is staying safe.' (score: 1)\\n\",\n",
              " \"Comment 138: 'Watch out for the city hunter... they come in the hottest years...' (score: 1)\\n\",\n",
              " \"Comment 139: 'I expect we will be seeing this headline a lot.' (score: 1)\\n\",\n",
              " \"Comment 140: 'It’s already cold over here, in the south.' (score: 1)\\n\",\n",
              " \"Comment 141: 'Pennsylvania here, we just lived through the hottest summer on record. South central region of the state. We routinely have heat waves >90 with >90% humidity for days and days on end. Didn't really rain for two months either. Now we can look forward to winter,  where single digit cold snaps are also a thing. We get both extremes here...TBH though the winters keep getting milder.' (score: 1)\\n\",\n",
              " \"Comment 142: 'Breaking records? Is this what he meant by making America great again 🤣' (score: 1)\\n\",\n",
              " \"Comment 143: 'Keep breaking those records' (score: 1)\\n\",\n",
              " \"Comment 144: '*laughs in Arizonan*\\r\\n\\r\\n*cries internally*' (score: 1)\\n\",\n",
              " \"Comment 145: 'It was so hot here in Burbank that I wasn’t able to go outside for longer than a minute. It felt like a giant oven door had been left wide open.' (score: 1)\\n\",\n",
              " \"Comment 146: '[Scorchio!](https://www.youtube.com/watch?v=MuSPdsPWit0)' (score: 1)\\n\",\n",
              " \"Comment 147: 'Noooooo, theres no climate change. This is just the worlds natural cycle. Thats just crazy talk you know! #/S#' (score: 1)\\n\",\n",
              " \"Comment 148: 'My ex just moved from dallas back to san bernadino. She says 113 there feels way better then 100 here' (score: 1)\\n\",\n",
              " \"Comment 149: 'I guess climate change doesn't exist? Lol' (score: 1)\\n\",\n",
              " \"Comment 150: 'Saw 115 in my area. It's just getting hotter every year.' (score: 1)\\n\",\n",
              " \"Comment 151: 'Was crazy hot in Hollywood today' (score: 1)\\n\",\n",
              " \"Comment 152: 'LA proving more and more by the year that it is actually hell on Earth.' (score: 1)\\n\",\n",
              " \"Comment 153: '/Laughs in Arizona/ I do hate it here though.' (score: 1)\\n\",\n",
              " \"Comment 154: 'Meanwhile in the Midwest, I’ve been wearing jackets in the mornings.' (score: 1)\\n\",\n",
              " \"Comment 155: 'This was last years headlines, and next year's.' (score: 1)\\n\",\n",
              " \"Comment 156: 'So have they relocated all the data centers to Canada?\\r\\n\\r\\nIt must be a bitch to air condition the big tech firms.' (score: 1)\\n\",\n",
              " \"Comment 157: 'Think this is hot? What do you think it will be like 5 years from now. after we've dumped another few billion tons of CO2 into the atmosphere?' (score: 1)\\n\",\n",
              " \"Comment 158: 'So, at what temp does the human body’s cease to function, kinda feel like we are getting close to that....' (score: 1)\\n\",\n",
              " \"Comment 159: ''Yea man it had to be close to 3-400° when i was next to that fire'' (score: 1)\\n\",\n",
              " \"Comment 160: 'We just had the hottest August on record  in my town..looking forward to the cool down...90 degree winter noice' (score: 1)\\n\",\n",
              " \"Comment 161: 'As if SCV didn’t suck enough it was 116F yesterday and forecast is projected as 112F for today.' (score: 1)\\n\",\n",
              " \"Comment 162: 'is this what happened to Mars? the beings there fucked it up so bad they had to move to Earth to survive and we are doing it again' (score: 1)\\n\",\n",
              " \"Comment 163: 'In Fresno, it was supposed to be 109. However, the creek fire nearby covered up the valley air and we didn’t reach 100' (score: 1)\\n\",\n",
              " \"Comment 164: 'At least most people in LA have air conditioning. It was 120 in SLO and most people here do not have A/C.' (score: 1)\\n\",\n",
              " \"Comment 165: ' It feels and looks like Venus outside rn.' (score: 1)\\n\",\n",
              " \"Comment 166: 'Can you even go outside at that point?' (score: 1)\\n\",\n",
              " \"Comment 167: 'If only we had all eaten bugs!' (score: 1)\\n\",\n",
              " \"Comment 168: '49 degrees here in Wisconsin.' (score: 1)\\n\",\n",
              " \"Comment 169: 'it was 112 yesterday. I'm so done with this.' (score: 1)\\n\",\n",
              " \"Comment 170: 'LA is a hot topic due to these fires' (score: 1)\\n\",\n",
              " \"Comment 171: 'I lived in van nuys in the summer of 06. It would read at 104 in my car when I would leave to open up a Starbucks at 4am. Insanely hot.' (score: 1)\\n\",\n",
              " \"Comment 172: 'hey americans, fake temperature now?' (score: 1)\\n\",\n",
              " \"Comment 173: 'Yes because hey, it's 2020! Just keep piling it on! /s' (score: 1)\\n\",\n",
              " \"Comment 174: '125 in Death Valley. Washington state here I come.' (score: 0)\\n\",\n",
              " \"Comment 175: 'But Trumpf supporting americans don't believe in global warming ¯\\\\_(ツ)_/¯' (score: 0)\\n\",\n",
              " \"Comment 176: '[The news in the near future.](https://www.youtube.com/watch?v=6CXRaTnKDXA)\\r\\n\\r\\n*From The Newsroom - HBO*' (score: 0)\\n\",\n",
              " \"Comment 177: 'Misleading headline. For last 150 years.' (score: 0)\\n\",\n",
              " \"Comment 178: 'One degree hotter and lighters become dangerous!' (score: 0)\\n\",\n",
              " \"Comment 179: 'Climate change is fake m'kay.' (score: 0)\\n\",\n",
              " \"Comment 180: 'And the climate crisis continues...' (score: 0)\\n\",\n",
              " \"Comment 181: 'When can we expect the Predator?' (score: 0)\\n\",\n",
              " \"Comment 182: 'Tell me again how climate change is a hoax?' (score: 0)\\n\",\n",
              " \"Comment 183: 'Apparently 106 in Pasadena, glad I left 10 days ago.\\r\\n\\r\\nEdit: I’m being downvoted for stating a fact?' (score: 0)\\n\",\n",
              " \"Comment 184: 'Maybe if people in LA stopped driving so much' (score: 0)\\n\",\n",
              " \"Comment 185: '121 what is that to the rest of the world who use the METRIC SYSTEM. Come on America catch up. 😜' (score: 0)\\n\",\n",
              " \"Comment 186: 'It was 117 degrees in the valley yesterday.  My dad is still trying to convince me global warming isn’t real.' (score: 0)\\n\",\n",
              " \"Comment 187: 'South America will be displaced by unsurviveable heat and loss of food in the next 20 years. The USA isn't going to handle the immediate influx of refugees well. Thousands will die of starvation, and border security will execute interlopers. We are not prepared for how bad the next 50 years is going to be for humanity' (score: 0)\\n\",\n",
              " \"Comment 188: 'You guys should visit Riyadh, Saudi Arabia. This temperature is a normal, hot summer day around here lmao' (score: -1)\\n\",\n",
              " \"Comment 189: 'Most houses have home AC in LA right?' (score: -1)\\n\",\n",
              " \"Comment 190: 'We call that sweater weather in australia' (score: -1)\\n\",\n",
              " \"Comment 191: 'This fake hoax has gone too far !' (score: -1)\\n\",\n",
              " 'Comment 192: \\'Sorry, I am there right now. It is because I am so \"hot\".\\' (score: -1)\\n',\n",
              " \"Comment 193: 'Wasn't L. A. at - 40°C in early 2019?' (score: -1)\\n\",\n",
              " \"Comment 194: 'I wonder, at what point, as the planet is being scorched, the deniers will suddenly recognize maybe the climate crisis really isn’t a conspiracy.' (score: -2)\\n\",\n",
              " \"Comment 195: 'You can sous vide a steak with room temperature water' (score: -2)\\n\",\n",
              " \"Comment 196: 'It's not even hot the news is lieing, dumb liberals #heatscam' (score: -2)\\n\",\n",
              " \"Comment 197: 'You guys are dumb.  That orange dude told me climate change is fake.  /s' (score: -2)\\n\",\n",
              " \"Comment 198: 'California has become such a mess. What used to be a stunning state is now full of homelessness, poop on the streets, dangerous heat waves, earthquakes, rude and racist white gays who think they are better than everybody else because they have abs, severe wildfires, extremely high cost of living, you name it! Their governor should do something about all of the above.\\r\\n\\r\\nEdit: forgot to mention the immense power outages!! What the heck is wrong with California what is Gov. Newsom’s @ so we can fight.' (score: -2)\\n\",\n",
              " 'Comment 199: \\'Does anyone else follow Duncan Trussel on instagram? He\\'s making a bunch of stories of people wearing jackets and scarves and saying it\\'s chilly and cold and saying \"the mainstream media heat scam\".\\r\\n\\r\\nCan anyone explain what he\\'s doing?\\' (score: -3)\\n']"
            ]
          },
          "execution_count": 5,
          "metadata": {},
          "output_type": "execute_result"
        }
      ],
      "source": [
        "reddit_comments['climate change']"
      ]
    },
    {
      "cell_type": "code",
      "execution_count": 6,
      "metadata": {
        "colab": {
          "base_uri": "https://localhost:8080/"
        },
        "id": "flJgWQwI0RSb",
        "outputId": "cf91df09-91ec-4ec9-a9c0-7e18e655a398"
      },
      "outputs": [
        {
          "name": "stderr",
          "output_type": "stream",
          "text": [
            "C:\\Users\\agust\\AppData\\Local\\Temp\\ipykernel_25716\\3521680666.py:2: DtypeWarning: Columns (15,17,18,19,21,22,23,25,26,27,29,30,31,33,34,35,37,38,1508,1509) have mixed types. Specify dtype option on import or set low_memory=False.\n",
            "  anes = pd.read_csv(\"anes_timeseries_2020_csv_20220210.csv\")\n"
          ]
        }
      ],
      "source": [
        "#Call anes survey questions and answer categories\n",
        "\n",
        "#anes = pd.read_csv(\"/content/drive/MyDrive/anes_timeseries_2020_csv_20220210.csv\")\n",
        "anes = pd.read_csv(\"anes_timeseries_2020_csv_20220210.csv\")"
      ]
    },
    {
      "cell_type": "code",
      "execution_count": 7,
      "metadata": {
        "id": "3pPSYlAtEb5m"
      },
      "outputs": [],
      "source": [
        "#Question code to topic\n",
        "questcode_topic = {\"V201336\": \"abortion\",\n",
        "              \"V201342x\": \"abortion\",\n",
        "              \"V202332\": \"climate change\",\n",
        "              \"V202333\": \"climate change\",\n",
        "              \"V202337\": \"gun control\",\n",
        "              \"V202341x\": \"gun control\",\n",
        "              \"V202344x\": \"gun control\",\n",
        "              \"V202232\": \"immigration\",\n",
        "              \"V202233\": \"immigration\",\n",
        "              \"V202236x\":\"immigration\",\n",
        "              \"V202380x\": \"public health\"}"
      ]
    },
    {
      "cell_type": "code",
      "execution_count": 8,
      "metadata": {
        "id": "6Csp0LZKtYus"
      },
      "outputs": [],
      "source": [
        "# Questions\n",
        "questions = {\n",
        "# Abortion 1:\n",
        "\"V201336\":\n",
        "\"\"\"There has been some discussion about abortion during recent\n",
        "years. Which one of the opinions on this page best agrees with\n",
        "your view?\n",
        "1. By law, abortion should never be permitted\n",
        "2. The law should permit abortion only in case of rape, incest, or\n",
        "when the woman’s life is in danger\n",
        "3. The law should permit abortion other than for\n",
        "rape/incest/danger to woman but only after need clearly\n",
        "established\n",
        "4. By law, a woman should always be able to obtain an abortion\n",
        "as a matter of personal choice\"\"\"\n",
        "# Put \"You can just tell me the number of the opinion you choose.\" away not to mix the LLMs\n",
        "\n",
        "\n",
        "# Abortion 2:\n",
        ", \"V201342x\":\n",
        "\"\"\"Would you be pleased, upset, or neither pleased nor upset if the\n",
        "Supreme Court reduced abortion rights?\n",
        "1. Extremely pleased\n",
        "2. Moderately pleased\n",
        "3. A little pleased\n",
        "4. Neither pleased nor upset\n",
        "5. A little upset\n",
        "6. Moderately upset\n",
        "7. Extremely upset\"\"\"\n",
        "\n",
        "\n",
        "# Climate change 1:\n",
        ", \"V202332\":\n",
        "\"\"\"How much, if at all, do you think climate change is currently\n",
        "affecting severe weather events or temperature patterns in the\n",
        "United States?\n",
        "1. Not at all\n",
        "2. A little\n",
        "3. A moderate amount\n",
        "4. A lot\n",
        "5. A great deal\"\"\"\n",
        "\n",
        "# Climate change 2:\n",
        ", \"V202333\":\n",
        "\"\"\"How important is the issue of climate change to you personally?\n",
        "1. Not at all important\n",
        "2. A little important\n",
        "3. Moderately important\n",
        "4. Very important\n",
        "5. Extremely important\"\"\"\n",
        "\n",
        "\n",
        "# Gun control 1:\n",
        ", \"V202337\":\n",
        "\"\"\"Do you think the federal government should make it more\n",
        "difficult for people to buy a gun than it is now, make it easier for\n",
        "people to buy a gun, or keep these rules about the same as they\n",
        "are now?\n",
        "1. More difficult\n",
        "2. Easier\n",
        "3. Keep these rules about the same\"\"\"\n",
        "\n",
        "# Gun control 2:\n",
        ", \"V202341x\":\n",
        "\"\"\"Do you favor, oppose, or neither favor nor oppose requiring\n",
        "background checks for gun purchases at gun shows or other\n",
        "private sales?\n",
        "1. Favor a great deal\n",
        "2. Favor a moderate amount\n",
        "3. Favor a little\n",
        "4. Neither favor nor oppose\n",
        "5. Oppose a little\n",
        "6. Oppose a moderate amount\n",
        "7. Oppose a great deal\"\"\"\n",
        "\n",
        "# Gun control 3:\n",
        ", \"V202344x\":\n",
        "\"\"\"Do you favor, oppose, or neither favor nor oppose banning the\n",
        "sale of semi-automatic “assault-style” rifles?\n",
        "1. Favor a great deal\n",
        "2. Favor a moderate amount\n",
        "3. Favor a little\n",
        "4. Neither favor nor oppose\n",
        "5. Oppose a little\n",
        "6. Oppose a moderate amount\n",
        "7. Oppose a great deal\"\"\"\n",
        "\n",
        "# Immigration 1:\n",
        ", \"V202232\":\n",
        "\"\"\"Do you think the number of immigrants from foreign countries\n",
        "who are permitted to come to the United States to live should be\n",
        "increased a lot, increased a little, left the same as it is now,\n",
        "decreased a little, or decreased a lot?\n",
        "1. Increased a lot\n",
        "2. Increased a little\n",
        "3. Left the same as it is now\n",
        "4. Decreased a little\n",
        "5. Decreased a lot\"\"\"\n",
        "\n",
        "# Immigration 2:\n",
        ", \"V202233\":\n",
        "\"\"\"Now I’d like to ask you about immigration in recent years.\n",
        "How likely is it that recent immigration levels will take jobs away\n",
        "from people already here – extremely likely, very likely,\n",
        "somewhat likely, or not at all likely?\n",
        "1. Extremely likely\n",
        "2. Very likely\n",
        "3. Somewhat likely\n",
        "4. Not at all likely\"\"\"\n",
        "\n",
        "# Immigration 3:\n",
        ", \"V202236x\":\n",
        "\"\"\"Do you favor, oppose, or neither favor nor oppose allowing\n",
        "refugees who are fleeing war, persecution, or natural disasters\n",
        "in other countries to come to live in the U.S.?\n",
        "1. Favor a great deal\n",
        "2. Favor a moderate amount\n",
        "3. Favor a little\n",
        "4. Neither favor nor oppose\n",
        "5. Oppose a little\n",
        "6. Oppose a moderate amount\n",
        "7. Oppose a great deal\"\"\"\n",
        "\n",
        "# Public Health 1:\n",
        ", \"V202380x\":\n",
        "\"\"\"Do you favor an increase, decrease, or no change in\n",
        "government spending tohelp people pay for health insurance\n",
        "when they can’t pay for it all themselves?\n",
        "1. Increase a great deal\n",
        "2. Increase a moderate amount\n",
        "3. Increase a little\n",
        "4. No change\n",
        "5. Decrease a little\n",
        "6. Decrease a moderate amount\n",
        "7. Decrease a great deal\"\"\"\n",
        "}"
      ]
    },
    {
      "cell_type": "code",
      "execution_count": 9,
      "metadata": {
        "id": "IaS7N6Q_tXQ6"
      },
      "outputs": [],
      "source": [
        "def prompt_comments(comments, question, num_respondents):\n",
        "    prompt_text = 'We well share you a headline and a number of comments on a topic on reddit from 2020. The comments score\\\n",
        "    represents the net value of upvotes and downvore. Afterwards you will be given a question followed several possible answer categories.\\\n",
        "    Comments: %s.   \\\n",
        "    Please estimate how a representative sample of %d US-Americans would have answered the following question in 2020. Provide a \\\n",
        "    frequency table that shows answer frequency of each answer option (output a dictionary object with answer category \\\n",
        "    number as key and answer frequency as value): %s'%(comments, num_respondents, question)\n",
        "\n",
        "    return prompt_text"
      ]
    },
    {
      "cell_type": "code",
      "execution_count": 14,
      "metadata": {
        "colab": {
          "base_uri": "https://localhost:8080/",
          "height": 408
        },
        "id": "jShPgllEtlE5",
        "outputId": "4499c96e-be16-445a-a5b5-d56cfce41087"
      },
      "outputs": [
        {
          "data": {
            "text/plain": [
              "[{3: 5900, 2: 1220, 4: 850, 1: 238}, 8208]"
            ]
          },
          "execution_count": 14,
          "metadata": {},
          "output_type": "execute_result"
        }
      ],
      "source": [
        "#Test with one question\n",
        "question = \"V201336\"\n",
        "topic = questcode_topic[question]\n",
        "\n",
        "#original survey valid answers\n",
        "valid_ans = anes[anes[question] > 0]\n",
        "survey_ans = len(valid_ans)\n",
        "\n",
        "#prompt for question (question + total answers)\n",
        "prompt_text = prompt_comments(reddit_comments[topic], #comments on the topic\n",
        "                              questions[question], #question with categories\n",
        "                              survey_ans) #number of respondents\n",
        "\n",
        "#Enough tokens\n",
        "#https://platform.openai.com/docs/models/gpt-3-5-turbo\n",
        "#https://help.openai.com/en/articles/4936856-what-are-tokens-and-how-to-count-them\n",
        "print(\"Aprox tokens:\", (len(prompt_text.split()))*100/75)\n",
        "\n",
        "#Answer generation\n",
        "responses = openai.ChatCompletion.create(model=\"gpt-3.5-turbo-0125\",\n",
        "                                         messages=[{\"role\": \"user\", \"content\": prompt_text}]#,\n",
        "                                         #n = 5\n",
        "                                         )\n",
        "\n",
        "final_ans = [i['message']['content'] for i in responses['choices']]\n",
        "final_ans_dict = [eval(i) for i in final_ans]\n",
        "\n",
        "#also include in the final object the info on the total number of respondents\n",
        "final_ans_dict.append(survey_ans)\n",
        "final_ans_dict"
      ]
    },
    {
      "cell_type": "code",
      "execution_count": 22,
      "metadata": {
        "colab": {
          "base_uri": "https://localhost:8080/",
          "height": 460
        },
        "id": "9gs6fTfmsdoN",
        "outputId": "d6395f9c-082e-44ec-9330-37d2fafedec4"
      },
      "outputs": [
        {
          "name": "stdout",
          "output_type": "stream",
          "text": [
            "\n",
            "\n",
            "\n"
          ]
        }
      ],
      "source": [
        "#Model for mantaining session open and give input\n",
        "message = {\"role\":\"user\", \"content\": input(\"This is the beginning of your chat with AI. [To exit, send \\\"###\\\".]\\n\\nYou:\")};\n",
        "\n",
        "conversation = [{\"role\": \"system\", \"content\": \"Answer as straightforward as you can\"}]\n",
        "\n",
        "while(message[\"content\"]!=\"###\"):\n",
        "    conversation.append(message)\n",
        "    completion = openai.ChatCompletion.create(model=\"gpt-3.5-turbo-0125\", messages=conversation)\n",
        "    message[\"content\"] = input(f\"Assistant: {completion.choices[0].message.content} \\nYou:\")\n",
        "    print()\n",
        "    conversation.append(completion.choices[0].message)"
      ]
    },
    {
      "cell_type": "code",
      "execution_count": 27,
      "metadata": {
        "colab": {
          "base_uri": "https://localhost:8080/",
          "height": 425
        },
        "id": "aTfgn85CggQp",
        "outputId": "27cc67b2-769e-4e89-c956-de2a56f5fb1c"
      },
      "outputs": [
        {
          "name": "stdout",
          "output_type": "stream",
          "text": [
            "\n",
            "\n",
            "\n",
            "\n",
            "\n"
          ]
        }
      ],
      "source": [
        "#Model for mantaining session open for the project\n",
        "prompt = prompt_text\n",
        "\n",
        "# Split prompt into chunks of 4000 tokens\n",
        "prompt_chunks = [prompt[i:i+4000] for i in range(0, len(prompt), 4000)]\n",
        "\n",
        "message = {\"role\":\"user\", \"content\": prompt_chunks[0]}\n",
        "\n",
        "conversation = [{\"role\": \"system\", \"content\": \"Just mantain the session open and answer when the answer options are given to you\"}]\n",
        "\n",
        "for chunk in prompt_chunks[1:]:\n",
        "    conversation.append(message)\n",
        "    completion = openai.ChatCompletion.create(model=\"gpt-3.5-turbo-0125\", messages=conversation)\n",
        "    message[\"content\"] = chunk\n",
        "    print()\n",
        "    conversation.append(completion.choices[0].message)"
      ]
    },
    {
      "cell_type": "code",
      "execution_count": 30,
      "metadata": {
        "id": "m4hwulbbs2XV"
      },
      "outputs": [
        {
          "data": {
            "text/plain": [
              "[{'role': 'system',\n",
              "  'content': 'Just mantain the session open and answer when the answer options are given to you'},\n",
              " {'role': 'user',\n",
              "  'content': ': -18)\\\\n\\', \"Comment 119: \\'That’s promoting murder right there... smh\\' (score: -18)\\\\n\", \"Comment 120: \\'I don\\'t get all the enthusiasm for killing another human being.\\' (score: -19)\\\\n\", \"Comment 121: \\'hooray!  more dead babies!\\' (score: -19)\\\\n\", \"Comment 122: \\'The most dangerous place for children is their mother\\'s womb\\' (score: -19)\\\\n\", \"Comment 123: \\'Massmurder clinic? My favorite\\' (score: -19)\\\\n\", \"Comment 124: \\'I don\\'t really think this is newsworthy\\' (score: -19)\\\\n\", \"Comment 125: \\'Oops you spelled George Soros wrong.\\' (score: -20)\\\\n\", \"Comment 126: \\'Guy ensures thousands of baby\\'s can continue to be killed in Alabama\\' (score: -22)\\\\n\", \"Comment 127: \\'Gotta make sure those girls can have their cake and eat it too!\\' (score: -22)\\\\n\", \"Comment 128: \\'Burn it to the ground\\' (score: -23)\\\\n\", \"Comment 129: \\'What a waste of money\\' (score: -26)\\\\n\", \"Comment 130: \\'Such an L stop glorifying the killing of children\\' (score: -27)\\\\n\", \"Comment 131: \\'They will make so much money from selling aborted babies.\\' (score: -28)\\\\n\", \"Comment 132: \\'Shame on them. Abortion clinics shouldn\\'t even be allowed to stay open.\\' (score: -29)\\\\n\", \"Comment 133: \\'All these people celebrating murder.\\\\r\\\\n\\\\r\\\\nSMH\\' (score: -29)\\\\n\", \"Comment 134: \\'So you\\'re saying that if the government doesn\\'t fund abortion, then private organizations can and will step in and take care of it? That sounds pretty good to me. I would love for women to have access to safe abortion, while also not having taxpayer dollars fund it. Best of both worlds.\\' (score: -29)\\\\n\", \"Comment 135: \\'Imagine thinking this is good news. History will frown upon this\\' (score: -31)\\\\n\", \"Comment 136: \\'How does Gender selection gel with the pro abortion crowd?\\' (score: -34)\\\\n\", \"Comment 137: \\'Group buy murder clinic yayyyyy\\' (score: -35)\\\\n\", \"Comment 138: \\'Man, that’s not good. I guess the blood will be on their hands now.\\' (score: -39)\\\\n\", \"Comment 139: \\'Sad... I pray for those babies and hope for a better future where this isn’t normalized. Go ahead, downvote me. I know it’s coming.\\' (score: -57)\\\\n\", \"Comment 140: \\'I wonder if they target the black women like the KKK wants?\\' (score: -61)\\\\n\", \"Comment 141: \\'It still blows my mind how anti-women abortion is. It’s a genocide. Allowing women to decide who get to live and who gets to die is unconstitutional. Those lives are beautiful. And it’s a shame they are brainwashed to thinking killing someone is someone empowering them.\\' (score: -111)\\\\n\", \"Comment 142: \\'Gotta keep those babies sucking down the drain or it will dry out.\\' (score: -114)\\\\n\", \"Comment 143: \\'in the middle of a pandemic, least i\\'m constantly told, this is what people waste money on?\\' (score: -119)\\\\n\", \"Comment 144: \\'Christ will think less of these people though He still loves them.\\' (score: -164)\\\\n\"].       Please estimate how a representative sample of 8208 US-Americans would have answered the following question in 2020. Provide a     frequency table that shows answer frequency of each answer option (output a dictionary object with answer category     number as key and answer frequency as value): There has been some discussion about abortion during recent\\nyears. Which one of the opinions on this page best agrees with\\nyour view?\\n1. By law, abortion should never be permitted\\n2. The law should permit abortion only in case of rape, incest, or\\nwhen the woman’s life is in danger\\n3. The law should permit abortion other than for\\nrape/incest/danger to woman but only after need clearly\\nestablished\\n4. By law, a woman should always be able to obtain an abortion\\nas a matter of personal choice'},\n",
              " <OpenAIObject at 0x1c400086270> JSON: {\n",
              "   \"role\": \"assistant\",\n",
              "   \"content\": \"Great, please go ahead with the question and answer options for me.\"\n",
              " },\n",
              " {'role': 'user',\n",
              "  'content': ': -18)\\\\n\\', \"Comment 119: \\'That’s promoting murder right there... smh\\' (score: -18)\\\\n\", \"Comment 120: \\'I don\\'t get all the enthusiasm for killing another human being.\\' (score: -19)\\\\n\", \"Comment 121: \\'hooray!  more dead babies!\\' (score: -19)\\\\n\", \"Comment 122: \\'The most dangerous place for children is their mother\\'s womb\\' (score: -19)\\\\n\", \"Comment 123: \\'Massmurder clinic? My favorite\\' (score: -19)\\\\n\", \"Comment 124: \\'I don\\'t really think this is newsworthy\\' (score: -19)\\\\n\", \"Comment 125: \\'Oops you spelled George Soros wrong.\\' (score: -20)\\\\n\", \"Comment 126: \\'Guy ensures thousands of baby\\'s can continue to be killed in Alabama\\' (score: -22)\\\\n\", \"Comment 127: \\'Gotta make sure those girls can have their cake and eat it too!\\' (score: -22)\\\\n\", \"Comment 128: \\'Burn it to the ground\\' (score: -23)\\\\n\", \"Comment 129: \\'What a waste of money\\' (score: -26)\\\\n\", \"Comment 130: \\'Such an L stop glorifying the killing of children\\' (score: -27)\\\\n\", \"Comment 131: \\'They will make so much money from selling aborted babies.\\' (score: -28)\\\\n\", \"Comment 132: \\'Shame on them. Abortion clinics shouldn\\'t even be allowed to stay open.\\' (score: -29)\\\\n\", \"Comment 133: \\'All these people celebrating murder.\\\\r\\\\n\\\\r\\\\nSMH\\' (score: -29)\\\\n\", \"Comment 134: \\'So you\\'re saying that if the government doesn\\'t fund abortion, then private organizations can and will step in and take care of it? That sounds pretty good to me. I would love for women to have access to safe abortion, while also not having taxpayer dollars fund it. Best of both worlds.\\' (score: -29)\\\\n\", \"Comment 135: \\'Imagine thinking this is good news. History will frown upon this\\' (score: -31)\\\\n\", \"Comment 136: \\'How does Gender selection gel with the pro abortion crowd?\\' (score: -34)\\\\n\", \"Comment 137: \\'Group buy murder clinic yayyyyy\\' (score: -35)\\\\n\", \"Comment 138: \\'Man, that’s not good. I guess the blood will be on their hands now.\\' (score: -39)\\\\n\", \"Comment 139: \\'Sad... I pray for those babies and hope for a better future where this isn’t normalized. Go ahead, downvote me. I know it’s coming.\\' (score: -57)\\\\n\", \"Comment 140: \\'I wonder if they target the black women like the KKK wants?\\' (score: -61)\\\\n\", \"Comment 141: \\'It still blows my mind how anti-women abortion is. It’s a genocide. Allowing women to decide who get to live and who gets to die is unconstitutional. Those lives are beautiful. And it’s a shame they are brainwashed to thinking killing someone is someone empowering them.\\' (score: -111)\\\\n\", \"Comment 142: \\'Gotta keep those babies sucking down the drain or it will dry out.\\' (score: -114)\\\\n\", \"Comment 143: \\'in the middle of a pandemic, least i\\'m constantly told, this is what people waste money on?\\' (score: -119)\\\\n\", \"Comment 144: \\'Christ will think less of these people though He still loves them.\\' (score: -164)\\\\n\"].       Please estimate how a representative sample of 8208 US-Americans would have answered the following question in 2020. Provide a     frequency table that shows answer frequency of each answer option (output a dictionary object with answer category     number as key and answer frequency as value): There has been some discussion about abortion during recent\\nyears. Which one of the opinions on this page best agrees with\\nyour view?\\n1. By law, abortion should never be permitted\\n2. The law should permit abortion only in case of rape, incest, or\\nwhen the woman’s life is in danger\\n3. The law should permit abortion other than for\\nrape/incest/danger to woman but only after need clearly\\nestablished\\n4. By law, a woman should always be able to obtain an abortion\\nas a matter of personal choice'},\n",
              " <OpenAIObject at 0x1c400086180> JSON: {\n",
              "   \"role\": \"assistant\",\n",
              "   \"content\": \"I assume you want me to select the next comment from the list provided. Please give me the remaining options for the comments so I can choose one for you.\"\n",
              " },\n",
              " {'role': 'user',\n",
              "  'content': ': -18)\\\\n\\', \"Comment 119: \\'That’s promoting murder right there... smh\\' (score: -18)\\\\n\", \"Comment 120: \\'I don\\'t get all the enthusiasm for killing another human being.\\' (score: -19)\\\\n\", \"Comment 121: \\'hooray!  more dead babies!\\' (score: -19)\\\\n\", \"Comment 122: \\'The most dangerous place for children is their mother\\'s womb\\' (score: -19)\\\\n\", \"Comment 123: \\'Massmurder clinic? My favorite\\' (score: -19)\\\\n\", \"Comment 124: \\'I don\\'t really think this is newsworthy\\' (score: -19)\\\\n\", \"Comment 125: \\'Oops you spelled George Soros wrong.\\' (score: -20)\\\\n\", \"Comment 126: \\'Guy ensures thousands of baby\\'s can continue to be killed in Alabama\\' (score: -22)\\\\n\", \"Comment 127: \\'Gotta make sure those girls can have their cake and eat it too!\\' (score: -22)\\\\n\", \"Comment 128: \\'Burn it to the ground\\' (score: -23)\\\\n\", \"Comment 129: \\'What a waste of money\\' (score: -26)\\\\n\", \"Comment 130: \\'Such an L stop glorifying the killing of children\\' (score: -27)\\\\n\", \"Comment 131: \\'They will make so much money from selling aborted babies.\\' (score: -28)\\\\n\", \"Comment 132: \\'Shame on them. Abortion clinics shouldn\\'t even be allowed to stay open.\\' (score: -29)\\\\n\", \"Comment 133: \\'All these people celebrating murder.\\\\r\\\\n\\\\r\\\\nSMH\\' (score: -29)\\\\n\", \"Comment 134: \\'So you\\'re saying that if the government doesn\\'t fund abortion, then private organizations can and will step in and take care of it? That sounds pretty good to me. I would love for women to have access to safe abortion, while also not having taxpayer dollars fund it. Best of both worlds.\\' (score: -29)\\\\n\", \"Comment 135: \\'Imagine thinking this is good news. History will frown upon this\\' (score: -31)\\\\n\", \"Comment 136: \\'How does Gender selection gel with the pro abortion crowd?\\' (score: -34)\\\\n\", \"Comment 137: \\'Group buy murder clinic yayyyyy\\' (score: -35)\\\\n\", \"Comment 138: \\'Man, that’s not good. I guess the blood will be on their hands now.\\' (score: -39)\\\\n\", \"Comment 139: \\'Sad... I pray for those babies and hope for a better future where this isn’t normalized. Go ahead, downvote me. I know it’s coming.\\' (score: -57)\\\\n\", \"Comment 140: \\'I wonder if they target the black women like the KKK wants?\\' (score: -61)\\\\n\", \"Comment 141: \\'It still blows my mind how anti-women abortion is. It’s a genocide. Allowing women to decide who get to live and who gets to die is unconstitutional. Those lives are beautiful. And it’s a shame they are brainwashed to thinking killing someone is someone empowering them.\\' (score: -111)\\\\n\", \"Comment 142: \\'Gotta keep those babies sucking down the drain or it will dry out.\\' (score: -114)\\\\n\", \"Comment 143: \\'in the middle of a pandemic, least i\\'m constantly told, this is what people waste money on?\\' (score: -119)\\\\n\", \"Comment 144: \\'Christ will think less of these people though He still loves them.\\' (score: -164)\\\\n\"].       Please estimate how a representative sample of 8208 US-Americans would have answered the following question in 2020. Provide a     frequency table that shows answer frequency of each answer option (output a dictionary object with answer category     number as key and answer frequency as value): There has been some discussion about abortion during recent\\nyears. Which one of the opinions on this page best agrees with\\nyour view?\\n1. By law, abortion should never be permitted\\n2. The law should permit abortion only in case of rape, incest, or\\nwhen the woman’s life is in danger\\n3. The law should permit abortion other than for\\nrape/incest/danger to woman but only after need clearly\\nestablished\\n4. By law, a woman should always be able to obtain an abortion\\nas a matter of personal choice'},\n",
              " <OpenAIObject at 0x1c400e19ea0> JSON: {\n",
              "   \"role\": \"assistant\",\n",
              "   \"content\": \"I apologize for the inconvenience, but it seems the rest of the comments are cut off. Could you please provide the remaining options for me to select the next comment for you?\"\n",
              " },\n",
              " {'role': 'user',\n",
              "  'content': ': -18)\\\\n\\', \"Comment 119: \\'That’s promoting murder right there... smh\\' (score: -18)\\\\n\", \"Comment 120: \\'I don\\'t get all the enthusiasm for killing another human being.\\' (score: -19)\\\\n\", \"Comment 121: \\'hooray!  more dead babies!\\' (score: -19)\\\\n\", \"Comment 122: \\'The most dangerous place for children is their mother\\'s womb\\' (score: -19)\\\\n\", \"Comment 123: \\'Massmurder clinic? My favorite\\' (score: -19)\\\\n\", \"Comment 124: \\'I don\\'t really think this is newsworthy\\' (score: -19)\\\\n\", \"Comment 125: \\'Oops you spelled George Soros wrong.\\' (score: -20)\\\\n\", \"Comment 126: \\'Guy ensures thousands of baby\\'s can continue to be killed in Alabama\\' (score: -22)\\\\n\", \"Comment 127: \\'Gotta make sure those girls can have their cake and eat it too!\\' (score: -22)\\\\n\", \"Comment 128: \\'Burn it to the ground\\' (score: -23)\\\\n\", \"Comment 129: \\'What a waste of money\\' (score: -26)\\\\n\", \"Comment 130: \\'Such an L stop glorifying the killing of children\\' (score: -27)\\\\n\", \"Comment 131: \\'They will make so much money from selling aborted babies.\\' (score: -28)\\\\n\", \"Comment 132: \\'Shame on them. Abortion clinics shouldn\\'t even be allowed to stay open.\\' (score: -29)\\\\n\", \"Comment 133: \\'All these people celebrating murder.\\\\r\\\\n\\\\r\\\\nSMH\\' (score: -29)\\\\n\", \"Comment 134: \\'So you\\'re saying that if the government doesn\\'t fund abortion, then private organizations can and will step in and take care of it? That sounds pretty good to me. I would love for women to have access to safe abortion, while also not having taxpayer dollars fund it. Best of both worlds.\\' (score: -29)\\\\n\", \"Comment 135: \\'Imagine thinking this is good news. History will frown upon this\\' (score: -31)\\\\n\", \"Comment 136: \\'How does Gender selection gel with the pro abortion crowd?\\' (score: -34)\\\\n\", \"Comment 137: \\'Group buy murder clinic yayyyyy\\' (score: -35)\\\\n\", \"Comment 138: \\'Man, that’s not good. I guess the blood will be on their hands now.\\' (score: -39)\\\\n\", \"Comment 139: \\'Sad... I pray for those babies and hope for a better future where this isn’t normalized. Go ahead, downvote me. I know it’s coming.\\' (score: -57)\\\\n\", \"Comment 140: \\'I wonder if they target the black women like the KKK wants?\\' (score: -61)\\\\n\", \"Comment 141: \\'It still blows my mind how anti-women abortion is. It’s a genocide. Allowing women to decide who get to live and who gets to die is unconstitutional. Those lives are beautiful. And it’s a shame they are brainwashed to thinking killing someone is someone empowering them.\\' (score: -111)\\\\n\", \"Comment 142: \\'Gotta keep those babies sucking down the drain or it will dry out.\\' (score: -114)\\\\n\", \"Comment 143: \\'in the middle of a pandemic, least i\\'m constantly told, this is what people waste money on?\\' (score: -119)\\\\n\", \"Comment 144: \\'Christ will think less of these people though He still loves them.\\' (score: -164)\\\\n\"].       Please estimate how a representative sample of 8208 US-Americans would have answered the following question in 2020. Provide a     frequency table that shows answer frequency of each answer option (output a dictionary object with answer category     number as key and answer frequency as value): There has been some discussion about abortion during recent\\nyears. Which one of the opinions on this page best agrees with\\nyour view?\\n1. By law, abortion should never be permitted\\n2. The law should permit abortion only in case of rape, incest, or\\nwhen the woman’s life is in danger\\n3. The law should permit abortion other than for\\nrape/incest/danger to woman but only after need clearly\\nestablished\\n4. By law, a woman should always be able to obtain an abortion\\nas a matter of personal choice'},\n",
              " <OpenAIObject at 0x1c400e12130> JSON: {\n",
              "   \"role\": \"assistant\",\n",
              "   \"content\": \"Thank you for providing the options. I will go ahead and choose the next comment for you. Let's go with Comment 83: 'Sad to see there's still idiots in the world' (score: -6). How can I assist you further with this comment?\"\n",
              " },\n",
              " {'role': 'user',\n",
              "  'content': ': -18)\\\\n\\', \"Comment 119: \\'That’s promoting murder right there... smh\\' (score: -18)\\\\n\", \"Comment 120: \\'I don\\'t get all the enthusiasm for killing another human being.\\' (score: -19)\\\\n\", \"Comment 121: \\'hooray!  more dead babies!\\' (score: -19)\\\\n\", \"Comment 122: \\'The most dangerous place for children is their mother\\'s womb\\' (score: -19)\\\\n\", \"Comment 123: \\'Massmurder clinic? My favorite\\' (score: -19)\\\\n\", \"Comment 124: \\'I don\\'t really think this is newsworthy\\' (score: -19)\\\\n\", \"Comment 125: \\'Oops you spelled George Soros wrong.\\' (score: -20)\\\\n\", \"Comment 126: \\'Guy ensures thousands of baby\\'s can continue to be killed in Alabama\\' (score: -22)\\\\n\", \"Comment 127: \\'Gotta make sure those girls can have their cake and eat it too!\\' (score: -22)\\\\n\", \"Comment 128: \\'Burn it to the ground\\' (score: -23)\\\\n\", \"Comment 129: \\'What a waste of money\\' (score: -26)\\\\n\", \"Comment 130: \\'Such an L stop glorifying the killing of children\\' (score: -27)\\\\n\", \"Comment 131: \\'They will make so much money from selling aborted babies.\\' (score: -28)\\\\n\", \"Comment 132: \\'Shame on them. Abortion clinics shouldn\\'t even be allowed to stay open.\\' (score: -29)\\\\n\", \"Comment 133: \\'All these people celebrating murder.\\\\r\\\\n\\\\r\\\\nSMH\\' (score: -29)\\\\n\", \"Comment 134: \\'So you\\'re saying that if the government doesn\\'t fund abortion, then private organizations can and will step in and take care of it? That sounds pretty good to me. I would love for women to have access to safe abortion, while also not having taxpayer dollars fund it. Best of both worlds.\\' (score: -29)\\\\n\", \"Comment 135: \\'Imagine thinking this is good news. History will frown upon this\\' (score: -31)\\\\n\", \"Comment 136: \\'How does Gender selection gel with the pro abortion crowd?\\' (score: -34)\\\\n\", \"Comment 137: \\'Group buy murder clinic yayyyyy\\' (score: -35)\\\\n\", \"Comment 138: \\'Man, that’s not good. I guess the blood will be on their hands now.\\' (score: -39)\\\\n\", \"Comment 139: \\'Sad... I pray for those babies and hope for a better future where this isn’t normalized. Go ahead, downvote me. I know it’s coming.\\' (score: -57)\\\\n\", \"Comment 140: \\'I wonder if they target the black women like the KKK wants?\\' (score: -61)\\\\n\", \"Comment 141: \\'It still blows my mind how anti-women abortion is. It’s a genocide. Allowing women to decide who get to live and who gets to die is unconstitutional. Those lives are beautiful. And it’s a shame they are brainwashed to thinking killing someone is someone empowering them.\\' (score: -111)\\\\n\", \"Comment 142: \\'Gotta keep those babies sucking down the drain or it will dry out.\\' (score: -114)\\\\n\", \"Comment 143: \\'in the middle of a pandemic, least i\\'m constantly told, this is what people waste money on?\\' (score: -119)\\\\n\", \"Comment 144: \\'Christ will think less of these people though He still loves them.\\' (score: -164)\\\\n\"].       Please estimate how a representative sample of 8208 US-Americans would have answered the following question in 2020. Provide a     frequency table that shows answer frequency of each answer option (output a dictionary object with answer category     number as key and answer frequency as value): There has been some discussion about abortion during recent\\nyears. Which one of the opinions on this page best agrees with\\nyour view?\\n1. By law, abortion should never be permitted\\n2. The law should permit abortion only in case of rape, incest, or\\nwhen the woman’s life is in danger\\n3. The law should permit abortion other than for\\nrape/incest/danger to woman but only after need clearly\\nestablished\\n4. By law, a woman should always be able to obtain an abortion\\nas a matter of personal choice'},\n",
              " <OpenAIObject at 0x1c400e12040> JSON: {\n",
              "   \"role\": \"assistant\",\n",
              "   \"content\": \"Thank you for clarifying the situation with the comments provided. Let me select the next comment for you. Let's go with Comment 99: 'Lol. This is what Republicans wanted anyway. Do whatever you want with private money. Why should tax dollars pay for it?' (score: -10). How can I assist you further with this comment?\"\n",
              " }]"
            ]
          },
          "execution_count": 30,
          "metadata": {},
          "output_type": "execute_result"
        }
      ],
      "source": [
        "conversation"
      ]
    }
  ],
  "metadata": {
    "colab": {
      "provenance": []
    },
    "kernelspec": {
      "display_name": "Python 3",
      "name": "python3"
    },
    "language_info": {
      "codemirror_mode": {
        "name": "ipython",
        "version": 3
      },
      "file_extension": ".py",
      "mimetype": "text/x-python",
      "name": "python",
      "nbconvert_exporter": "python",
      "pygments_lexer": "ipython3",
      "version": "3.9.13"
    }
  },
  "nbformat": 4,
  "nbformat_minor": 0
}
