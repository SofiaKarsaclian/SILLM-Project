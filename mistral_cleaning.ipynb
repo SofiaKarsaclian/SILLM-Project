{
 "cells": [
  {
   "cell_type": "markdown",
   "metadata": {},
   "source": [
    "Data cleaning for Mistral results"
   ]
  },
  {
   "cell_type": "code",
   "execution_count": 1,
   "metadata": {},
   "outputs": [
    {
     "ename": "FileNotFoundError",
     "evalue": "[Errno 2] No such file or directory: 'outputs/mistral_few_ans.json'",
     "output_type": "error",
     "traceback": [
      "\u001b[1;31m---------------------------------------------------------------------------\u001b[0m",
      "\u001b[1;31mFileNotFoundError\u001b[0m                         Traceback (most recent call last)",
      "Cell \u001b[1;32mIn[1], line 1\u001b[0m\n\u001b[1;32m----> 1\u001b[0m \u001b[38;5;28;01mwith\u001b[39;00m \u001b[38;5;28;43mopen\u001b[39;49m\u001b[43m(\u001b[49m\u001b[38;5;124;43m'\u001b[39;49m\u001b[38;5;124;43moutputs/mistral_few_ans.json\u001b[39;49m\u001b[38;5;124;43m'\u001b[39;49m\u001b[43m,\u001b[49m\u001b[43m \u001b[49m\u001b[38;5;124;43m'\u001b[39;49m\u001b[38;5;124;43mr\u001b[39;49m\u001b[38;5;124;43m'\u001b[39;49m\u001b[43m)\u001b[49m \u001b[38;5;28;01mas\u001b[39;00m f:\n\u001b[0;32m      2\u001b[0m     mistral_few_ans \u001b[38;5;241m=\u001b[39m json\u001b[38;5;241m.\u001b[39mload(f)\n\u001b[0;32m      4\u001b[0m \u001b[38;5;28;01mwith\u001b[39;00m \u001b[38;5;28mopen\u001b[39m(\u001b[38;5;124m'\u001b[39m\u001b[38;5;124moutputs/mistralSE_few_ans.json\u001b[39m\u001b[38;5;124m'\u001b[39m, \u001b[38;5;124m'\u001b[39m\u001b[38;5;124mr\u001b[39m\u001b[38;5;124m'\u001b[39m) \u001b[38;5;28;01mas\u001b[39;00m f:\n",
      "File \u001b[1;32m~\\AppData\\Roaming\\Python\\Python312\\site-packages\\IPython\\core\\interactiveshell.py:308\u001b[0m, in \u001b[0;36m_modified_open\u001b[1;34m(file, *args, **kwargs)\u001b[0m\n\u001b[0;32m    301\u001b[0m \u001b[38;5;28;01mif\u001b[39;00m file \u001b[38;5;129;01min\u001b[39;00m {\u001b[38;5;241m0\u001b[39m, \u001b[38;5;241m1\u001b[39m, \u001b[38;5;241m2\u001b[39m}:\n\u001b[0;32m    302\u001b[0m     \u001b[38;5;28;01mraise\u001b[39;00m \u001b[38;5;167;01mValueError\u001b[39;00m(\n\u001b[0;32m    303\u001b[0m         \u001b[38;5;124mf\u001b[39m\u001b[38;5;124m\"\u001b[39m\u001b[38;5;124mIPython won\u001b[39m\u001b[38;5;124m'\u001b[39m\u001b[38;5;124mt let you open fd=\u001b[39m\u001b[38;5;132;01m{\u001b[39;00mfile\u001b[38;5;132;01m}\u001b[39;00m\u001b[38;5;124m by default \u001b[39m\u001b[38;5;124m\"\u001b[39m\n\u001b[0;32m    304\u001b[0m         \u001b[38;5;124m\"\u001b[39m\u001b[38;5;124mas it is likely to crash IPython. If you know what you are doing, \u001b[39m\u001b[38;5;124m\"\u001b[39m\n\u001b[0;32m    305\u001b[0m         \u001b[38;5;124m\"\u001b[39m\u001b[38;5;124myou can use builtins\u001b[39m\u001b[38;5;124m'\u001b[39m\u001b[38;5;124m open.\u001b[39m\u001b[38;5;124m\"\u001b[39m\n\u001b[0;32m    306\u001b[0m     )\n\u001b[1;32m--> 308\u001b[0m \u001b[38;5;28;01mreturn\u001b[39;00m \u001b[43mio_open\u001b[49m\u001b[43m(\u001b[49m\u001b[43mfile\u001b[49m\u001b[43m,\u001b[49m\u001b[43m \u001b[49m\u001b[38;5;241;43m*\u001b[39;49m\u001b[43margs\u001b[49m\u001b[43m,\u001b[49m\u001b[43m \u001b[49m\u001b[38;5;241;43m*\u001b[39;49m\u001b[38;5;241;43m*\u001b[39;49m\u001b[43mkwargs\u001b[49m\u001b[43m)\u001b[49m\n",
      "\u001b[1;31mFileNotFoundError\u001b[0m: [Errno 2] No such file or directory: 'outputs/mistral_few_ans.json'"
     ]
    }
   ],
   "source": [
    "with open('outputs/mistral_few_ans.json', 'r') as f:\n",
    "    mistral_few_ans = json.load(f)\n",
    "\n",
    "with open('outputs/mistralSE_few_ans.json', 'r') as f:\n",
    "    mistral_SE_few_ans = json.load(f)\n",
    "\n",
    "with open('outputs/answers_mistral_zero.json', 'r') as f:\n",
    "    mistral_zero_ans = json.load(f)\n",
    "\n",
    "with open('outputs/mistral_few_strict.json', 'r') as f:\n",
    "    mistral_few_strict = json.load(f)\n",
    "\n",
    "with open('outputs/mistralSE_few_strict.json', 'r') as f:\n",
    "    mistral_SE_few_strict = json.load(f)"
   ]
  },
  {
   "cell_type": "code",
   "execution_count": null,
   "metadata": {},
   "outputs": [],
   "source": [
    "def clean_mistral(data):\n",
    "    final_ans_dict = {}\n",
    "    pattern1 = r'\\{.*?\\}'\n",
    "\n",
    "    for key, value in data.items():\n",
    "        answer_list = []\n",
    "        # print(key)\n",
    "        for item in value:\n",
    "            item = item.replace('\\n', '').replace('%', '')\n",
    "            # Add a closing parenthesis if missing\n",
    "            if item.count('{') > item.count('}'):\n",
    "                item += \"}\"\n",
    "            # Correct wrong number format\n",
    "            item = item.replace('.}', '.0}').replace(':}', ':0}')\n",
    "            # Only match with the parenthesis and not any additional content\n",
    "            match = re.search(pattern1, item)\n",
    "            matched = match.group(0)\n",
    "            final_ans = eval(matched)  \n",
    "\n",
    "            answer_list.append(final_ans)\n",
    "            # Check if each dict has right amount of answers\n",
    "            # Valid number of answers\n",
    "        valid_ans = anes[anes[key] > 0]\n",
    "        number_answers = len(valid_ans[key].unique())\n",
    "        # LLM number of answers\n",
    "        ans_dict = [i for i in answer_list if len(i) == number_answers]\n",
    "\n",
    "        final_ans_dict[key] = ans_dict\n",
    "    return final_ans_dict\n",
    "        \n",
    "mistral_few_ans = clean_mistral(mistral_few_ans)\n",
    "mistral_SE_few_ans = clean_mistral(mistral_SE_few_ans)\n",
    "mistral_zero_ans = clean_mistral(mistral_zero_ans)\n",
    "mistral_few_strict = clean_mistral(mistral_few_strict)\n",
    "mistral_SE_few_strict = clean_mistral(mistral_SE_few_strict)"
   ]
  },
  {
   "cell_type": "code",
   "execution_count": null,
   "metadata": {},
   "outputs": [],
   "source": [
    "def correct_check(answer_object):\n",
    "    for key, answers in answer_object.items():\n",
    "        \n",
    "        #check if answers add up to 100%\n",
    "        valid_answer = []\n",
    "        for i in answers:\n",
    "            if sum(i.values()) == 100:\n",
    "                valid_answer.append(i)\n",
    "\n",
    "            # If not normalize for 100\n",
    "            else:\n",
    "                # print(f\"Sum is not equal to 100 in answer: {key}, {sum(i.values())}\")\n",
    "                sum_val = sum(i.values())\n",
    "               \n",
    "                for quest, ele in i.items():\n",
    "                    norm = round(ele*100/sum_val, 1)\n",
    "                    i[quest] = norm\n",
    "                    valid_answer.append(i)\n",
    "\n",
    "        if valid_answer:  # If there are valid answers\n",
    "            array_data = np.array([list(dic.values()) for dic in valid_answer])\n",
    "            averages = np.mean(array_data, axis=0)\n",
    "            averages = np.round(averages, 1)\n",
    "            av_dict = dict(enumerate(averages.flatten(), 1))\n",
    "            answers.append(av_dict)\n",
    "        else:\n",
    "            print(\"No valid answers found.\")\n",
    "correct_check(mistral_few_ans)"
   ]
  }
 ],
 "metadata": {
  "kernelspec": {
   "display_name": "Python 3",
   "language": "python",
   "name": "python3"
  },
  "language_info": {
   "codemirror_mode": {
    "name": "ipython",
    "version": 3
   },
   "file_extension": ".py",
   "mimetype": "text/x-python",
   "name": "python",
   "nbconvert_exporter": "python",
   "pygments_lexer": "ipython3",
   "version": "3.12.0"
  }
 },
 "nbformat": 4,
 "nbformat_minor": 2
}
