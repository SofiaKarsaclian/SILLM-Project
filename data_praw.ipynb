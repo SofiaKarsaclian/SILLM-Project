{
 "cells": [
  {
   "cell_type": "markdown",
   "metadata": {},
   "source": [
    "### Data Collection\n",
    "\n",
    "Using PRAW on r/news to retrieve discussions on selected topics during 2020.\n",
    "\n",
    "Topics: \n",
    "* Abortion\n",
    "* Climate Change\n",
    "* Gun Control\n",
    "* Immigration\n",
    "* Health Care"
   ]
  },
  {
   "cell_type": "code",
   "execution_count": 2,
   "metadata": {},
   "outputs": [],
   "source": [
    "import praw"
   ]
  },
  {
   "cell_type": "code",
   "execution_count": null,
   "metadata": {},
   "outputs": [],
   "source": [
    "reddit = praw.Reddit(\n",
    "    client_id=\"slThjR4gi1Wxp-mEV1xYOw\",\n",
    "    client_secret=\"xlV0UgYRlXFJiaiop9qie133qYPdfg\",\n",
    "    user_agent=\"my user agent\",\n",
    ")"
   ]
  }
 ],
 "metadata": {
  "language_info": {
   "name": "python"
  }
 },
 "nbformat": 4,
 "nbformat_minor": 2
}
