{
 "cells": [
  {
   "cell_type": "code",
   "execution_count": 1,
   "metadata": {},
   "outputs": [],
   "source": [
    "import pandas as pd\n",
    "import matplotlib.pyplot as plt"
   ]
  },
  {
   "cell_type": "code",
   "execution_count": 2,
   "metadata": {},
   "outputs": [
    {
     "name": "stderr",
     "output_type": "stream",
     "text": [
      "C:\\Users\\adria\\AppData\\Local\\Temp\\ipykernel_140752\\245263837.py:1: DtypeWarning: Columns (15,17,18,19,21,22,23,25,26,27,29,30,31,33,34,35,37,38,1508,1509) have mixed types. Specify dtype option on import or set low_memory=False.\n",
      "  anes = pd.read_csv('anes_timeseries_2020_csv_20220210.csv')\n"
     ]
    }
   ],
   "source": [
    "anes = pd.read_csv('anes_timeseries_2020_csv_20220210.csv')"
   ]
  },
  {
   "cell_type": "code",
   "execution_count": 3,
   "metadata": {},
   "outputs": [],
   "source": [
    "# Questions\n",
    "questions = {\n",
    "# Abortion 1:\n",
    "\"V201336\":\n",
    "\"\"\"There has been some discussion about abortion during recent\n",
    "years. Which one of the opinions on this page best agrees with\n",
    "your view?\n",
    "You can just tell me the number of the opinion you choose.\n",
    "1. By law, abortion should never be permitted\n",
    "2. The law should permit abortion only in case of rape, incest, or\n",
    "when the woman’s life is in danger\n",
    "3. The law should permit abortion other than for\n",
    "rape/incest/danger to woman but only after need clearly\n",
    "established\n",
    "4. By law, a woman should always be able to obtain an abortion\n",
    "as a matter of personal choice\"\"\"\n",
    "\n",
    "# Abortion 2:\n",
    ", \"V201342x\":\n",
    "\"\"\"Would you be pleased, upset, or neither pleased nor upset if the\n",
    "Supreme Court reduced abortion rights?\n",
    "1. Extremely pleased\n",
    "2. Moderately pleased\n",
    "3. A little pleased\n",
    "4. Neither pleased nor upset\n",
    "5. A little upset\n",
    "6. Moderately upset\n",
    "7. Extremely upset\"\"\"\n",
    "\n",
    "\n",
    "# Climate change 1:\n",
    ", \"V202332\":\n",
    "\"\"\"How much, if at all, do you think climate change is currently\n",
    "affecting severe weather events or temperature patterns in the\n",
    "United States?\n",
    "1. Not at all\n",
    "2. A little\n",
    "3. A moderate amount\n",
    "4. A lot\n",
    "5. A great deal\"\"\"\n",
    "\n",
    "# Climate change 2:\n",
    ", \"V202333\":\n",
    "\"\"\"How important is the issue of climate change to you personally?\n",
    "1. Not at all important\n",
    "2. A little important\n",
    "3. Moderately important\n",
    "4. Very important\n",
    "5. Extremely important\"\"\"\n",
    "\n",
    "\n",
    "# Gun control 1:\n",
    ", \"V202337\":\n",
    "\"\"\"Do you think the federal government should make it more\n",
    "difficult for people to buy a gun than it is now, make it easier for\n",
    "people to buy a gun, or keep these rules about the same as they\n",
    "are now?\n",
    "1. More difficult\n",
    "2. Easier\n",
    "3. Keep these rules about the same\"\"\"\n",
    "\n",
    "# Gun control 2:\n",
    ", \"V202341x\":\n",
    "\"\"\"Do you favor, oppose, or neither favor nor oppose requiring\n",
    "background checks for gun purchases at gun shows or other\n",
    "private sales?\n",
    "1. Favor a great deal\n",
    "2. Favor a moderate amount\n",
    "3. Favor a little\n",
    "4. Neither favor nor oppose\n",
    "5. Oppose a little\n",
    "6. Oppose a moderate amount\n",
    "7. Oppose a great deal\"\"\"\n",
    "\n",
    "# Gun control 3:\n",
    ", \"V202344x\":\n",
    "\"\"\"Do you favor, oppose, or neither favor nor oppose banning the\n",
    "sale of semi-automatic “assault-style” rifles?\n",
    "1. Favor a great deal\n",
    "2. Favor a moderate amount\n",
    "3. Favor a little\n",
    "4. Neither favor nor oppose\n",
    "5. Oppose a little\n",
    "6. Oppose a moderate amount\n",
    "7. Oppose a great deal\"\"\"\n",
    "\n",
    "# Immigration 1:\n",
    ", \"V202232\":\n",
    "\"\"\"Do you think the number of immigrants from foreign countries\n",
    "who are permitted to come to the United States to live should be\n",
    "increased a lot, increased a little, left the same as it is now,\n",
    "decreased a little, or decreased a lot?\n",
    "1. Increased a lot\n",
    "2. Increased a little\n",
    "3. Left the same as it is now\n",
    "4. Decreased a little\n",
    "5. Decreased a lot\"\"\"\n",
    "\n",
    "# Immigration 2:\n",
    ", \"V202233\":\n",
    "\"\"\"Now I’d like to ask you about immigration in recent years.\n",
    "How likely is it that recent immigration levels will take jobs away\n",
    "from people already here – extremely likely, very likely,\n",
    "somewhat likely, or not at all likely?\n",
    "1. Extremely likely\n",
    "2. Very likely\n",
    "3. Somewhat likely\n",
    "4. Not at all likely\"\"\"\n",
    "\n",
    "# Immigration 3:\n",
    ", \"V202236x\":\n",
    "\"\"\"Do you favor, oppose, or neither favor nor oppose allowing\n",
    "refugees who are fleeing war, persecution, or natural disasters\n",
    "in other countries to come to live in the U.S.?\n",
    "1. Favor a great deal\n",
    "2. Favor a moderate amount\n",
    "3. Favor a little\n",
    "4. Neither favor nor oppose\n",
    "5. Oppose a little\n",
    "6. Oppose a moderate amount\n",
    "7. Oppose a great deal\"\"\"\n",
    "\n",
    "# Public Health 1:\n",
    ", \"V202380x\":\n",
    "\"\"\"Do you favor an increase, decrease, or no change in\n",
    "government spending tohelp people pay for health insurance\n",
    "when they can’t pay for it all themselves?\n",
    "1. Increase a great deal\n",
    "2. Increase a moderate amount\n",
    "3. Increase a little\n",
    "4. No change\n",
    "5. Decrease a little\n",
    "6. Decrease a moderate amount\n",
    "7. Decrease a great deal\"\"\"\n",
    "}"
   ]
  },
  {
   "cell_type": "code",
   "execution_count": 4,
   "metadata": {},
   "outputs": [
    {
     "data": {
      "text/plain": [
       "{'V201336': [3.119030214424951, 1.282893564092481, 8208],\n",
       " 'V201342x': [4.689327485380117, 4.338709039566053, 8208],\n",
       " 'V202332': [3.5717382468500203, 1.8473258263269425, 7381],\n",
       " 'V202333': [3.340511986997156, 1.825786082997807, 7383],\n",
       " 'V202337': [1.89735593220339, 0.9236911365172453, 7375],\n",
       " 'V202341x': [1.6703668607012319, 1.812394165422136, 7387],\n",
       " 'V202344x': [3.207424468229237, 5.664150831861712, 7381],\n",
       " 'V202232': [2.9915646258503403, 1.2937103016468015, 7350],\n",
       " 'V202233': [3.0364054675869534, 0.8464005047669663, 7389],\n",
       " 'V202236x': [3.072867378667027, 3.1129968202944625, 7397],\n",
       " 'V202380x': [3.0557224801966676, 2.7443334555495578, 7322]}"
      ]
     },
     "execution_count": 4,
     "metadata": {},
     "output_type": "execute_result"
    }
   ],
   "source": [
    "mean_var = {}\n",
    "\n",
    "for key, value in questions.items():\n",
    "    # Only include valid answers\n",
    "    valid = anes[anes[key] > 0]\n",
    "    # frequencies = valid[key].value_counts()\n",
    "    column_mean = valid[key].mean()\n",
    "    column_var = valid[key].var()\n",
    "    num_respondents = len(valid[key])\n",
    "    mean_var[key] = [column_mean, column_var, num_respondents]\n",
    "mean_var"
   ]
  },
  {
   "cell_type": "code",
   "execution_count": 5,
   "metadata": {},
   "outputs": [
    {
     "data": {
      "image/png": "[encoded data removed]",
      "text/plain": [
       "<Figure size 640x480 with 1 Axes>"
      ]
     },
     "metadata": {},
     "output_type": "display_data"
    }
   ],
   "source": [
    "# Build histogram per answer?\n",
    "jaha = anes[anes[\"V202380x\"] > 0]\n",
    "\n",
    "num_answers = len(jaha[\"V202380x\"].unique())\n",
    "plt.hist(jaha[\"V202380x\"], color='skyblue', edgecolor='black', bins=num_answers)\n",
    "plt.title('Histogram of V202380x')\n",
    "plt.xlabel('Values')\n",
    "plt.ylabel('Frequency')\n",
    "# plt.grid(True)\n",
    "plt.show()"
   ]
  },
  {
   "cell_type": "code",
   "execution_count": 6,
   "metadata": {},
   "outputs": [],
   "source": [
    "# Prompt\n",
    "def prompt(question, num_respondents):\n",
    "    prompt_text = 'In the following you will be given a question with several answer possibilities. Please try to \\\n",
    "    estimate how a representative sample of %d US-Americans would have answered the question in 2020 and provide a \\\n",
    "    frequency table: %s' % (num_respondents, question)\n",
    "\n",
    "    return prompt_text"
   ]
  },
  {
   "cell_type": "code",
   "execution_count": null,
   "metadata": {},
   "outputs": [],
   "source": []
  }
 ],
 "metadata": {
  "kernelspec": {
   "display_name": "base",
   "language": "python",
   "name": "python3"
  },
  "language_info": {
   "codemirror_mode": {
    "name": "ipython",
    "version": 3
   },
   "file_extension": ".py",
   "mimetype": "text/x-python",
   "name": "python",
   "nbconvert_exporter": "python",
   "pygments_lexer": "ipython3",
   "version": "3.10.9"
  }
 },
 "nbformat": 4,
 "nbformat_minor": 2
}
